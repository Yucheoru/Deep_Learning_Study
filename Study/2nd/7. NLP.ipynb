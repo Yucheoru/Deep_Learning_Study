{
 "cells": [
  {
   "cell_type": "code",
   "execution_count": 10,
   "id": "97d77dc3-28db-49c7-b7e8-d2c143327bd1",
   "metadata": {},
   "outputs": [],
   "source": [
    "import numpy as np\n",
    "\n",
    "def preprocess(text):\n",
    "    text = text.lower()\n",
    "    text = text.replace('.', ' .')\n",
    "    words = text.split(' ')\n",
    "    word_to_id = {}\n",
    "    id_to_word = {}\n",
    "    for word in words:\n",
    "        if word not in word_to_id:\n",
    "            new_id = len(word_to_id)\n",
    "            word_to_id[word] = new_id\n",
    "            id_to_word[new_id] = word\n",
    "\n",
    "        corpus = np.array([word_to_id[w] for w in words])\n",
    "\n",
    "        return corpus, word_to_id, id_to_word"
   ]
  },
  {
   "cell_type": "code",
   "execution_count": 11,
   "id": "7f531932-7450-41af-8498-dbc1852c975b",
   "metadata": {},
   "outputs": [
    {
     "ename": "KeyError",
     "evalue": "'say'",
     "output_type": "error",
     "traceback": [
      "\u001b[0;31m---------------------------------------------------------------------------\u001b[0m",
      "\u001b[0;31mKeyError\u001b[0m                                  Traceback (most recent call last)",
      "Cell \u001b[0;32mIn[11], line 6\u001b[0m\n\u001b[1;32m      3\u001b[0m \u001b[38;5;28;01mimport\u001b[39;00m \u001b[38;5;21;01mnumpy\u001b[39;00m \u001b[38;5;28;01mas\u001b[39;00m \u001b[38;5;21;01mnp\u001b[39;00m\n\u001b[1;32m      5\u001b[0m text \u001b[38;5;241m=\u001b[39m \u001b[38;5;124m'\u001b[39m\u001b[38;5;124mYou say goodbye and I say hello.\u001b[39m\u001b[38;5;124m'\u001b[39m\n\u001b[0;32m----> 6\u001b[0m corpus, word_to_id, id_to_word \u001b[38;5;241m=\u001b[39m preprocess(text)\n\u001b[1;32m      8\u001b[0m \u001b[38;5;28mprint\u001b[39m(corpus)\n\u001b[1;32m      9\u001b[0m \u001b[38;5;28mprint\u001b[39m(id_to_word)\n",
      "Cell \u001b[0;32mIn[10], line 15\u001b[0m, in \u001b[0;36mpreprocess\u001b[0;34m(text)\u001b[0m\n\u001b[1;32m     12\u001b[0m     word_to_id[word] \u001b[38;5;241m=\u001b[39m new_id\n\u001b[1;32m     13\u001b[0m     id_to_word[new_id] \u001b[38;5;241m=\u001b[39m word\n\u001b[0;32m---> 15\u001b[0m corpus \u001b[38;5;241m=\u001b[39m np\u001b[38;5;241m.\u001b[39marray([word_to_id[w] \u001b[38;5;28;01mfor\u001b[39;00m w \u001b[38;5;129;01min\u001b[39;00m words])\n\u001b[1;32m     17\u001b[0m \u001b[38;5;28;01mreturn\u001b[39;00m corpus, word_to_id, id_to_word\n",
      "Cell \u001b[0;32mIn[10], line 15\u001b[0m, in \u001b[0;36m<listcomp>\u001b[0;34m(.0)\u001b[0m\n\u001b[1;32m     12\u001b[0m     word_to_id[word] \u001b[38;5;241m=\u001b[39m new_id\n\u001b[1;32m     13\u001b[0m     id_to_word[new_id] \u001b[38;5;241m=\u001b[39m word\n\u001b[0;32m---> 15\u001b[0m corpus \u001b[38;5;241m=\u001b[39m np\u001b[38;5;241m.\u001b[39marray([word_to_id[w] \u001b[38;5;28;01mfor\u001b[39;00m w \u001b[38;5;129;01min\u001b[39;00m words])\n\u001b[1;32m     17\u001b[0m \u001b[38;5;28;01mreturn\u001b[39;00m corpus, word_to_id, id_to_word\n",
      "\u001b[0;31mKeyError\u001b[0m: 'say'"
     ]
    }
   ],
   "source": [
    "import sys\n",
    "sys.path.append('..')\n",
    "import numpy as np\n",
    "from common.util import preprocess\n",
    "\n",
    "text = 'You say goodbye and I say hello.'\n",
    "corpus, word_to_id, id_to_word = preprocess(text)\n",
    "\n",
    "print(corpus)\n",
    "print(id_to_word)"
   ]
  },
  {
   "cell_type": "code",
   "execution_count": null,
   "id": "7e7195c0-0d33-4148-8070-3473bedc6de4",
   "metadata": {},
   "outputs": [],
   "source": []
  },
  {
   "cell_type": "code",
   "execution_count": null,
   "id": "225573e5-4f00-4e74-9c8f-8e2acdd33b84",
   "metadata": {},
   "outputs": [],
   "source": []
  }
 ],
 "metadata": {
  "kernelspec": {
   "display_name": "Python 3 (ipykernel)",
   "language": "python",
   "name": "python3"
  },
  "language_info": {
   "codemirror_mode": {
    "name": "ipython",
    "version": 3
   },
   "file_extension": ".py",
   "mimetype": "text/x-python",
   "name": "python",
   "nbconvert_exporter": "python",
   "pygments_lexer": "ipython3",
   "version": "3.11.5"
  }
 },
 "nbformat": 4,
 "nbformat_minor": 5
}
