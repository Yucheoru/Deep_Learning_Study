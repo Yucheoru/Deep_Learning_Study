{
 "cells": [
  {
   "cell_type": "markdown",
   "id": "7d4ca31b-30c5-465f-aaa3-476ec3fda3af",
   "metadata": {},
   "source": [
    "# Backpropagation\n",
    "\n",
    "We utilized numerical differenciation to gain gradient of the neural network's weight parameter.\n",
    "However, it took amout of time to calculate it.\n",
    "So, to gain it efficiently, we can utilize backpropagation.\n",
    "\n",
    "## Comparison of forward propagation and backward propagation"
   ]
  },
  {
   "cell_type": "code",
   "execution_count": 4,
   "id": "9f025dd3-6931-4739-ab7b-694956e680b2",
   "metadata": {},
   "outputs": [
    {
     "ename": "NameError",
     "evalue": "name 'num_tax_layer' is not defined",
     "output_type": "error",
     "traceback": [
      "\u001b[0;31m---------------------------------------------------------------------------\u001b[0m",
      "\u001b[0;31mNameError\u001b[0m                                 Traceback (most recent call last)",
      "Cell \u001b[0;32mIn[4], line 47\u001b[0m\n\u001b[1;32m     45\u001b[0m orange_price \u001b[38;5;241m=\u001b[39m mul_orange_layer\u001b[38;5;241m.\u001b[39mforward(orange, orange_num)\n\u001b[1;32m     46\u001b[0m all_price \u001b[38;5;241m=\u001b[39m add_apple_orange_layer\u001b[38;5;241m.\u001b[39mforward(apple_price, orange_price)\n\u001b[0;32m---> 47\u001b[0m price \u001b[38;5;241m=\u001b[39m num_tax_layer\u001b[38;5;241m.\u001b[39mforward(all_pice, tax)\n\u001b[1;32m     49\u001b[0m \u001b[38;5;66;03m#back propagation\u001b[39;00m\n\u001b[1;32m     50\u001b[0m dprice \u001b[38;5;241m=\u001b[39m \u001b[38;5;241m1\u001b[39m\n",
      "\u001b[0;31mNameError\u001b[0m: name 'num_tax_layer' is not defined"
     ]
    }
   ],
   "source": [
    "class MulLayer:\n",
    "    def __init__(self):\n",
    "        self.x = None\n",
    "        self.y = None\n",
    "\n",
    "    def forward(self, x, y):\n",
    "        self.x = x\n",
    "        self.y = y\n",
    "        out = x * y\n",
    "\n",
    "        return out\n",
    "\n",
    "    def backward(self, dout):\n",
    "        dx = dout * self.x\n",
    "        dy = dout * self.y\n",
    "\n",
    "        return dx, dy\n",
    "\n",
    "class AddLayer:\n",
    "    def __init__(self):\n",
    "        pass\n",
    "\n",
    "    def forward(self, x, y):\n",
    "        out = x + y\n",
    "        return out\n",
    "\n",
    "    def backward(self, dout):\n",
    "        dx = dout * 1\n",
    "        dy = dout * 1\n",
    "        return dx, dy\n",
    "\n",
    "apple = 100\n",
    "apple_num = 2\n",
    "orange = 150\n",
    "orange_num = 3\n",
    "tax = 1.1\n",
    "\n",
    "mul_apple_layer = MulLayer()\n",
    "mul_orange_layer = MulLayer()\n",
    "add_apple_orange_layer = AddLayer()\n",
    "mul_tax_layer = MulLayer()\n",
    "\n",
    "#forward propagation\n",
    "apple_price = mul_apple_layer.forward(apple, apple_num)\n",
    "orange_price = mul_orange_layer.forward(orange, orange_num)\n",
    "all_price = add_apple_orange_layer.forward(apple_price, orange_price)\n",
    "price = mul_tax_layer.forward(all_pice, tax)\n",
    "\n",
    "#back propagation\n",
    "dprice = 1\n",
    "dall_price, dtax = mul_tax_layer.backward(dprice)\n",
    "dapple_price, dorange_price = add_apple_orange_layer.backward(dall_price)\n",
    "dorange, dorange_num = mul_orange_layer.backward(dorange_price)\n",
    "dapple, dapple_num = mul_apple_layer.backward(dapple_price)\n",
    "\n",
    "print(price)\n",
    "print(dapple_num, dapple, dorange, dorange_num, dtax)"
   ]
  },
  {
   "cell_type": "code",
   "execution_count": null,
   "id": "452f6341-1ee2-4f2a-ade3-d4f47e9d2485",
   "metadata": {},
   "outputs": [],
   "source": []
  }
 ],
 "metadata": {
  "kernelspec": {
   "display_name": "Python 3 (ipykernel)",
   "language": "python",
   "name": "python3"
  },
  "language_info": {
   "codemirror_mode": {
    "name": "ipython",
    "version": 3
   },
   "file_extension": ".py",
   "mimetype": "text/x-python",
   "name": "python",
   "nbconvert_exporter": "python",
   "pygments_lexer": "ipython3",
   "version": "3.11.5"
  }
 },
 "nbformat": 4,
 "nbformat_minor": 5
}
