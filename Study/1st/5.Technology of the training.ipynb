{
 "cells": [
  {
   "cell_type": "markdown",
   "id": "4a90c21c-f00d-431c-be50-d794997c1a85",
   "metadata": {},
   "source": [
    "# Update parameters\n",
    "\n",
    "## SGD\n",
    "\n",
    "SGD is the simple way to find the optimal parameters by using the gradient of the parameters.\n",
    "The following equation means a simple equation that goes only a certain distance in the inclined direction.\n",
    "$$W{\\leftarrow}W-\\eta \\frac{\\partial L}{\\partial W}$$ ($W$ = weights, $\\eta$ = learning rate, $\\frac{\\partial L}{\\partial W}$ = gradient of loss function to $W$)"
   ]
  },
  {
   "cell_type": "code",
   "execution_count": 20,
   "id": "9edca6f0-5dec-4c87-9423-2b7c0ef0fc89",
   "metadata": {},
   "outputs": [],
   "source": [
    "class SGD:\n",
    "    def __init__(self, lr=0.01):\n",
    "        self.lr = lr\n",
    "\n",
    "    def update(self, params, grads):\n",
    "        for key in params.keys():\n",
    "            params[key] -= self.lr * grads[key]"
   ]
  },
  {
   "cell_type": "markdown",
   "id": "49cc9e0f-3924-40c8-8da0-628648119dc8",
   "metadata": {},
   "source": [
    "### \bshortcoming of SGD\n",
    "\n",
    "In SGD, the search path is inefficient in anisotropic function(비등방성 함수) (a function in which the point indicated by the gradient at a specific coordinate(좌표) may change). Momentum, AdaGrad, and Adam are three ways to improve this shortcoming.\n",
    "\n",
    "## Momentum\n",
    "\n",
    "Momentum uses the rate of change of the parameter updated by the combination of the current gradient and the momentum accumulated in the previous stage. \n",
    "Simply put, the momentum adjusts the parameter in a better direction in the current stage, supported by the direction of parameter update in the previous stage. \n",
    "For example, a ball appears to roll on the bottom of the bowl.\n",
    "$$v{\\leftarrow}av-\\eta \\frac{\\partial L}{\\partial W}$$\n",
    "$$W{\\leftarrow}W+v$$"
   ]
  },
  {
   "cell_type": "code",
   "execution_count": 21,
   "id": "6449e4b8-87f5-496a-a011-5aea282c7a28",
   "metadata": {},
   "outputs": [],
   "source": [
    "class Momentum:\n",
    "    def __init__(self, lr=0.01, momentum=0.9):\n",
    "        self.lr = lr\n",
    "        self.momentum = momentum\n",
    "        self.v = None\n",
    "\n",
    "    def update(self, params, grads):\n",
    "        if self.v is None:\n",
    "            self.v = {}\n",
    "            for key, val in params.items():\n",
    "                self.v[key] = np.zeros_like(val)\n",
    "\n",
    "        for key in params.keys():\n",
    "            self.v[key] = self.momentum*self.v[key] - self.lr*grads[key]\n",
    "            params[key] += self.v[key]"
   ]
  },
  {
   "cell_type": "markdown",
   "id": "1db50497-5ff0-4919-a08e-3b42a56dbb8b",
   "metadata": {},
   "source": [
    "## AdaGrad\n",
    "\n",
    "In the learning process of a neural network, the learning rate value is crucial. When its value is too small, the learning process takes too long, and when it is too large, the learning quality deteriorates.\n",
    "\n",
    "The way to solve this problem is to learn large at first and then learn little by little. AdaGrad realized this method, and learning proceeds while adaptively adjusting the learning rate to individual parameters.\n",
    "\n",
    "$$h\\leftarrow h + \\frac{\\partial L}{\\partial W}\\odot\\frac{\\partial L}{\\partial W}$$\n",
    "$$W\\leftarrow W - \\eta\\frac{1}{\\sqrt{h}} \\frac{\\partial L}{\\partial W}$$\n",
    "($\\odot$ = element-wise multiplication of matrices)"
   ]
  },
  {
   "cell_type": "code",
   "execution_count": 22,
   "id": "53297b81-1fb8-4ddd-8cd0-762a6ef949f8",
   "metadata": {},
   "outputs": [],
   "source": [
    "class AdaGrad:\n",
    "    def __init__(self, lr=0.01):\n",
    "        self.lr = lr\n",
    "        self.h = None\n",
    "\n",
    "    def update(self, params, grads):\n",
    "        if self.h is None:\n",
    "            self.h = {}\n",
    "        for key, val in params.items():\n",
    "            self.h[key] = np.zeros_like(val)\n",
    "\n",
    "        for key in params.keys():\n",
    "            self.h[key] += grads[key] * grads[key]\n",
    "            params[key] -= self.lr * grads[key] / (np.sqrt(self.h[key]) + 1e-7)"
   ]
  },
  {
   "cell_type": "markdown",
   "id": "caf097a9-a293-453f-90cf-9f5a8e02128f",
   "metadata": {},
   "source": [
    "## Adam\n",
    "\n",
    "Adam is a combination of Momentum and AdaGrad benefits.\n",
    "There is not always an outstanding method for every problem, so it is different to use the appropriate method depending on the problem."
   ]
  },
  {
   "cell_type": "markdown",
   "id": "115d1193-09d8-445f-b8d6-e151b16b3472",
   "metadata": {},
   "source": [
    "# Initial value of weights\n",
    "\n",
    "There is a weight decay technique to suppress overfitting. \n",
    "This is a method of learning so that the value of the weight parameter becomes small.\n",
    "To find a very small value of weight, observing the distribution of activation values in the hidden layer provides important insights. \n",
    "The following experiment investigates how the activation values in the hidden layer change depending on the initial values of the weights."
   ]
  },
  {
   "cell_type": "code",
   "execution_count": 23,
   "id": "0d7e86a6-4461-4e47-b9e0-623d16e4235d",
   "metadata": {},
   "outputs": [
    {
     "data": {
      "image/png": "[encoded data removed]",
      "text/plain": [
       "<Figure size 640x480 with 5 Axes>"
      ]
     },
     "metadata": {},
     "output_type": "display_data"
    }
   ],
   "source": [
    "import numpy as np\n",
    "import matplotlib.pyplot as plt\n",
    "\n",
    "def sigmoid(x):\n",
    "    return 1 / (1 + np.exp(-x))\n",
    "\n",
    "x = np.random.randn(1000, 100)\n",
    "node_num = 100\n",
    "hidden_num = 100\n",
    "hidden_layer_size = 5\n",
    "activations = {}\n",
    "\n",
    "for i in range(hidden_layer_size):\n",
    "    if i != 0:\n",
    "        x = activations[i-1]\n",
    "\n",
    "    #w = np.random.randn(node_num, node_num) * 1\n",
    "    #w = np.random.randn(node_num, node_num) * 0.01\n",
    "    w = np.random.randn(node_num, node_num) / np.sqrt(node_num) #initial value of Xavier\n",
    "    a = np.dot(x, w)\n",
    "    z = sigmoid(a)\n",
    "    activations[i] = z\n",
    "\n",
    "for i, a in activations.items():\n",
    "    plt.subplot(1, len(activations), i+1)\n",
    "    plt.title(str(i+1) + \"-layer\")\n",
    "    plt.hist(a.flatten(), 30, range=(0,1))\n",
    "\n",
    "plt.show()"
   ]
  },
  {
   "cell_type": "markdown",
   "id": "8024efae-8d56-4e53-9bd5-50a182606584",
   "metadata": {},
   "source": [
    "# Batch Normalization\n",
    "\n",
    "Batch Normalization's idea is adjusting the activation values to be appropriately distributed across each layer. \n",
    "There are some reasons why Batch Normalization is widely used.\n",
    "\n",
    "1. to proceed learning fastly\n",
    "2. not depend on initial value\n",
    "3. suppress overfitting\n",
    "\n",
    "This is the formula about Batch Normalization that making the data distribution have a mean of 0 and a variance(분산) of 1.\n",
    "\n",
    "$$\\mu _{b} \\leftarrow \\frac{1}{m}\\sum_{m}^{i=1}x_{i}$$\n",
    "$$\\sigma _{B}^{2} \\leftarrow \\frac{1}{m}\\sum_{m}^{i=1}(x_{i} - \\mu _{b})^{2}$$\n",
    "$$\\hat{x}_{i} \\leftarrow \\frac{x_{i} - \\mu _{b}}{\\sqrt{\\sigma _{B}^{2} + \\varepsilon }}$$"
   ]
  },
  {
   "cell_type": "markdown",
   "id": "210d51b7-1db4-4c79-977f-388e60171ae7",
   "metadata": {},
   "source": [
    "# Consideration for learning\n",
    "\n",
    "## Overfitting\n",
    "\n",
    "Overfitting occurs when the train data is lack or the model has a lot of parameters and high expressiveness.\n",
    "To prevent overfitting, weight decay and dropout can be used.\n",
    "\n",
    "## Weight decay\n",
    "\n",
    "Weight decay is the method that give penalty to the large weights correspondingly.\n",
    "\n",
    "## Dropout\n",
    "\n",
    "When the neural network becomes sophisticated, it is difficult to handle overfitting with only weight decay.\n",
    "So, Dropout that deletes the neurons randomly can be used."
   ]
  },
  {
   "cell_type": "code",
   "execution_count": 24,
   "id": "ca5f8248-c52b-4583-9dbf-ff5947c1e5f1",
   "metadata": {},
   "outputs": [],
   "source": [
    "class Dropout:\n",
    "    def __init__(self, dropout_ratio=0.5):\n",
    "        self.dropout_ratio = dropout_ratio\n",
    "        self.mask = None\n",
    "\n",
    "    def forward(self, x, train_flg=True):\n",
    "        if train_flg:\n",
    "            self.mask = np.random.rand(*x.shape) > self.dropout_ratio\n",
    "            return x * self.mask\n",
    "        else:\n",
    "            return x * (1.0 - self.dropout_ratio)\n",
    "\n",
    "    def backward(self, dout):\n",
    "        return dout * self.mask"
   ]
  }
 ],
 "metadata": {
  "kernelspec": {
   "display_name": "Python 3 (ipykernel)",
   "language": "python",
   "name": "python3"
  },
  "language_info": {
   "codemirror_mode": {
    "name": "ipython",
    "version": 3
   },
   "file_extension": ".py",
   "mimetype": "text/x-python",
   "name": "python",
   "nbconvert_exporter": "python",
   "pygments_lexer": "ipython3",
   "version": "3.11.5"
  }
 },
 "nbformat": 4,
 "nbformat_minor": 5
}
