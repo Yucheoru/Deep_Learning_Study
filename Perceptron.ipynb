{
 "cells": [
  {
   "cell_type": "markdown",
   "id": "f2c5ece6-ad3b-46bd-97ce-85128bb7537f",
   "metadata": {},
   "source": [
    "# What is perceptron?\n",
    "Perceptron is an algorithm that receives a number of signals as inputs and outputs one signal."
   ]
  },
  {
   "cell_type": "markdown",
   "id": "76df69f8-2d93-4e21-bb6f-e75bd002a40d",
   "metadata": {},
   "source": [
    "# Perceptron's parameters\n",
    "* Weights(w) : Eigenvalues multiplied by input signals when sent to neurons(Compared to current, corresponds to resistance)\n",
    "* Thresholds($\\theta$) : The limits of the sum of signals to output 1.\n",
    "* Bias(b) : The values that allows the perceptron to make adjustments to its output independently of the inputs.\n",
    "\n",
    "# Perceptron's expression\n",
    "$ y = \\left\\{\\begin{matrix}\n",
    "0 (b + w_{1}x_{1} + w_{2}x_{2} \\leq 0) \\\\\n",
    "1 (b + w_{1}x_{1} + w_{2}x_{2} >  0)\\end{matrix}\\right.$"
   ]
  },
  {
   "cell_type": "markdown",
   "id": "f0cfafa3-34e0-4142-b9f0-2a3e8beaf745",
   "metadata": {},
   "source": [
    "# Implementation of AND, NAND, OR gates using perceptron algorithm"
   ]
  },
  {
   "cell_type": "code",
   "execution_count": 11,
   "id": "6da733cf-68b6-4ad9-91dc-404dac3f1a48",
   "metadata": {},
   "outputs": [
    {
     "name": "stdout",
     "output_type": "stream",
     "text": [
      "AND(0, 0): 0\n",
      "AND(0, 1): 0\n",
      "AND(1, 0): 0\n",
      "AND(1, 1): 1\n"
     ]
    }
   ],
   "source": [
    "import numpy as np\n",
    "\n",
    "def AND(x1, x2):\n",
    "    x = np.array([x1, x2])\n",
    "    w = np.array([0.5, 0.5])\n",
    "    b = -0.7\n",
    "    tmp = np.sum(w*x) + b\n",
    "    if tmp <= 0:\n",
    "        return 0\n",
    "    else:\n",
    "        return 1\n",
    "\n",
    "print(\"AND(0, 0):\", AND(0, 0))\n",
    "print(\"AND(0, 1):\", AND(0, 1))\n",
    "print(\"AND(1, 0):\", AND(1, 0))\n",
    "print(\"AND(1, 1):\", AND(1, 1))"
   ]
  },
  {
   "cell_type": "code",
   "execution_count": 8,
   "id": "babd8804-e922-47b3-8790-fd31873b5528",
   "metadata": {},
   "outputs": [],
   "source": [
    "import numpy as np\n",
    "\n",
    "def NAND(x1, x2):\n",
    "    x = np.array([x1, x2])\n",
    "    w = np.array([-0.5, -0.5])\n",
    "    b = 0.7\n",
    "    tmp = np.sum(w*x) + b\n",
    "    if tmp <= 0:\n",
    "        return 0\n",
    "    else:\n",
    "        return 1"
   ]
  },
  {
   "cell_type": "code",
   "execution_count": 9,
   "id": "6e63cdca-5846-4f0f-a39f-8906e12ba867",
   "metadata": {},
   "outputs": [],
   "source": [
    "import numpy as np\n",
    "\n",
    "def OR(x1, x2):\n",
    "    x = np.array([x1, x2])\n",
    "    w = np.array([0.5, 0.5])\n",
    "    b = -0.2\n",
    "    tmp = np.sum(w*x) + b\n",
    "    if tmp <= 0:\n",
    "        return 0\n",
    "    else:\n",
    "        return 1"
   ]
  },
  {
   "cell_type": "markdown",
   "id": "8de30983-72e1-4c0c-99e0-e862eadca28e",
   "metadata": {},
   "source": [
    "# The limit of perceptron and its solution\n",
    "* Single-layer perceptron only can express a straight-line domain => can't implement XOR gates\n",
    "* Through multi-layer perceptron, non-line domain can be expressed => can implement XOR gates"
   ]
  },
  {
   "cell_type": "markdown",
   "id": "a121b47f-2eed-480a-b5f3-899a3a4a8349",
   "metadata": {},
   "source": [
    "# XOR gates using multi-layer perceptron"
   ]
  },
  {
   "cell_type": "code",
   "execution_count": 12,
   "id": "86144d6c-8291-4ca4-91ef-f1236b47622e",
   "metadata": {},
   "outputs": [
    {
     "name": "stdout",
     "output_type": "stream",
     "text": [
      "XOR(0, 0): 0\n",
      "XOR(0, 1): 1\n",
      "XOR(1, 0): 1\n",
      "XOR(1, 1): 0\n"
     ]
    }
   ],
   "source": [
    "import numpy as np\n",
    "\n",
    "def XOR(x1, x2):\n",
    "    s1 = NAND(x1, x2)\n",
    "    s2 = OR(x1, x2)\n",
    "    y = AND(s1, s2)\n",
    "    return y\n",
    "\n",
    "print(\"XOR(0, 0):\", XOR(0, 0))\n",
    "print(\"XOR(0, 1):\", XOR(0, 1))\n",
    "print(\"XOR(1, 0):\", XOR(1, 0))\n",
    "print(\"XOR(1, 1):\", XOR(1, 1))"
   ]
  }
 ],
 "metadata": {
  "kernelspec": {
   "display_name": "Python 3 (ipykernel)",
   "language": "python",
   "name": "python3"
  },
  "language_info": {
   "codemirror_mode": {
    "name": "ipython",
    "version": 3
   },
   "file_extension": ".py",
   "mimetype": "text/x-python",
   "name": "python",
   "nbconvert_exporter": "python",
   "pygments_lexer": "ipython3",
   "version": "3.11.5"
  }
 },
 "nbformat": 4,
 "nbformat_minor": 5
}
