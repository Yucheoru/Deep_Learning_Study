{
 "cells": [
  {
   "cell_type": "markdown",
   "id": "f2c5ece6-ad3b-46bd-97ce-85128bb7537f",
   "metadata": {},
   "source": [
    "## 퍼셉트론이란?\n",
    "퍼셉트론(perceptron)은 다수의 신호를 입력으로 받아 하나의 신호를 출력하는 알고리즘을 의미한다."
   ]
  },
  {
   "cell_type": "markdown",
   "id": "76df69f8-2d93-4e21-bb6f-e75bd002a40d",
   "metadata": {},
   "source": [
    "# 퍼셉트론의 매개변수\n",
    "* 가중치 : 뉴런에 보내질 때의 입력 신호에 곱하는 고유값(전류에서 비유하면 저항에 해당)\n",
    "* 임계값 : 1을 출력하기 위한 신호의 총합의 한계값\n",
    "\n",
    "* 퍼셉트론의 수식\n",
    "* "
   ]
  },
  {
   "cell_type": "markdown",
   "id": "f0cfafa3-34e0-4142-b9f0-2a3e8beaf745",
   "metadata": {},
   "source": [
    "# 퍼셉트론 알고리즘을 이용한 AND게이트 구현"
   ]
  },
  {
   "cell_type": "code",
   "execution_count": 5,
   "id": "6da733cf-68b6-4ad9-91dc-404dac3f1a48",
   "metadata": {},
   "outputs": [
    {
     "name": "stdout",
     "output_type": "stream",
     "text": [
      "AND(0, 0):  0\n",
      "AND(0, 1):  0\n",
      "AND(1, 0):  0\n",
      "AND(1, 1):  1\n"
     ]
    }
   ],
   "source": [
    "import numpy as np\n",
    "\n",
    "def AND(x1, x2):\n",
    "    x = np.array([x1, x2])\n",
    "    w = np.array([0.5, 0.5])\n",
    "    b = -0.7\n",
    "    tmp = np.sum(w*x) + b\n",
    "    if tmp <= 0:\n",
    "        return 0\n",
    "    else:\n",
    "        return 1\n",
    "\n",
    "print(\"AND(0, 0): \", AND(0, 0))\n",
    "print(\"AND(0, 1): \", AND(0, 1))\n",
    "print(\"AND(1, 0): \", AND(1, 0))\n",
    "print(\"AND(1, 1): \", AND(1, 1))"
   ]
  },
  {
   "cell_type": "markdown",
   "id": "8de30983-72e1-4c0c-99e0-e862eadca28e",
   "metadata": {},
   "source": [
    "# 퍼셉트론의 한계 및 해결 방안\n",
    "* 단층 퍼셉트론은 직선형 영역만 표현이 가능 => XOR게이트 표현 불가\n",
    "* 다층 퍼셉트론을 통해 비선형 영역 표현 가능 => 다층 퍼셉트론으로 XOR게이트 표현가능"
   ]
  }
 ],
 "metadata": {
  "kernelspec": {
   "display_name": "Python 3 (ipykernel)",
   "language": "python",
   "name": "python3"
  },
  "language_info": {
   "codemirror_mode": {
    "name": "ipython",
    "version": 3
   },
   "file_extension": ".py",
   "mimetype": "text/x-python",
   "name": "python",
   "nbconvert_exporter": "python",
   "pygments_lexer": "ipython3",
   "version": "3.11.5"
  }
 },
 "nbformat": 4,
 "nbformat_minor": 5
}
